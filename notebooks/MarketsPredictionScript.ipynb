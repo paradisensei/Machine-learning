{
 "cells": [
  {
   "cell_type": "code",
   "execution_count": 2,
   "metadata": {
    "collapsed": true
   },
   "outputs": [],
   "source": [
    "import warnings\n",
    "warnings.simplefilter('ignore')\n",
    "\n",
    "import pandas as pd\n",
    "import numpy as np\n",
    "\n",
    "from sklearn.preprocessing import PolynomialFeatures\n",
    "from sklearn.model_selection import train_test_split\n",
    "from sklearn.metrics import accuracy_score\n",
    "\n",
    "from sklearn.linear_model import LogisticRegression"
   ]
  },
  {
   "cell_type": "markdown",
   "metadata": {},
   "source": [
    "<h3>1. Считываем данные по индексу RTSI, Brent, Usd/Rub, S&P 500 за годы 2010-2016</h3>"
   ]
  },
  {
   "cell_type": "code",
   "execution_count": 3,
   "metadata": {
    "collapsed": true
   },
   "outputs": [],
   "source": [
    "rtsi_df = pd.read_csv('./data/RTSI_2010-2016.csv')\n",
    "brent_df = pd.read_csv('./data/Brent_2010-2016.csv')\n",
    "usdrub_df = pd.read_csv('./data/USD_RUB_2010-2016.csv')\n",
    "sandp_df = pd.read_csv('./data/SANDP-500_2010-2016.csv')"
   ]
  },
  {
   "cell_type": "markdown",
   "metadata": {},
   "source": [
    "<h3>2. Избавляемся от ненужных фич, добавляем пропущенные выходные дни и новые фичи</h3>\n",
    "<h4>Новые фичи:</h4>\n",
    "<p>Берем биржевые данные по Brent, Usd/Rub и S&P 500. Находим, что произошло с этими инструментами за день до интересующего нас дня. 0 - если цена инструмента за день не изменилась, 1 - если выросла, 2 - если упала. Используем эти данные для предсказания поведения индекса RTSI на следующий день.</p>"
   ]
  },
  {
   "cell_type": "code",
   "execution_count": 4,
   "metadata": {
    "collapsed": true
   },
   "outputs": [],
   "source": [
    "def process(df, date_low, date_up):\n",
    "    df.drop(['<TIME>', '<HIGH>', '<LOW>', '<VOL>'], axis=1, inplace=True)\n",
    "    \n",
    "    # 0 - цена не изменилась\n",
    "    # 1 - цена выросла\n",
    "    # 2 - цена упала\n",
    "    df['diff'] = (df['<CLOSE>'] - df['<OPEN>']).astype(float)\n",
    "    df['result'] = df['diff'].apply(lambda d: 1 if d > 0 else 2 if d < 0 else 0)\n",
    "    df.drop(['<OPEN>', '<CLOSE>', 'diff'], axis=1, inplace=True)\n",
    "    \n",
    "    df.set_index('<DATE>', inplace=True)\n",
    "    \n",
    "    idx = pd.date_range(date_low, date_up)\n",
    "    df.index = pd.DatetimeIndex(df.index)\n",
    "    df = df.reindex(idx, fill_value=0)\n",
    "    \n",
    "    df = df.reset_index()\n",
    "    df = df.rename(columns = {'index': '<DATE>'})\n",
    "    \n",
    "    return df"
   ]
  },
  {
   "cell_type": "code",
   "execution_count": 5,
   "metadata": {
    "collapsed": true
   },
   "outputs": [],
   "source": [
    "rtsi_df = process(rtsi_df, '01/01/10', '12/31/2016')\n",
    "\n",
    "brent_df = process(brent_df, '12/31/09', '12/30/2016')\n",
    "usdrub_df = process(usdrub_df, '12/31/09', '12/30/2016')\n",
    "sandp_df = process(sandp_df, '12/31/09', '12/30/2016')"
   ]
  },
  {
   "cell_type": "code",
   "execution_count": 6,
   "metadata": {
    "collapsed": true
   },
   "outputs": [],
   "source": [
    "df = rtsi_df\n",
    "df['brent'] = brent_df['result']\n",
    "df['usd_rub'] = usdrub_df['result']\n",
    "df['sandp'] = sandp_df['result']"
   ]
  },
  {
   "cell_type": "markdown",
   "metadata": {},
   "source": [
    "<h3>3. Форматируем данные</h3>"
   ]
  },
  {
   "cell_type": "code",
   "execution_count": 7,
   "metadata": {
    "collapsed": true
   },
   "outputs": [],
   "source": [
    "df['weekday'] = df['<DATE>'].apply(lambda d: d.weekday())\n",
    "df['month'] = df['<DATE>'].apply(lambda d: d.month)\n",
    "df.drop('<DATE>', axis=1, inplace=True)"
   ]
  },
  {
   "cell_type": "markdown",
   "metadata": {},
   "source": [
    "<h3>4. Обучаем модель, используя логистическую регрессию</h3>"
   ]
  },
  {
   "cell_type": "code",
   "execution_count": 8,
   "metadata": {
    "collapsed": true
   },
   "outputs": [],
   "source": [
    "y = df['result'].values\n",
    "df.drop('result', axis=1, inplace=True)"
   ]
  },
  {
   "cell_type": "code",
   "execution_count": 9,
   "metadata": {
    "collapsed": true
   },
   "outputs": [],
   "source": [
    "X_train, X_cv, y_train, y_cv = train_test_split(df.values, y, test_size=0.3, random_state=17)"
   ]
  },
  {
   "cell_type": "code",
   "execution_count": 10,
   "metadata": {},
   "outputs": [
    {
     "name": "stdout",
     "output_type": "stream",
     "text": [
      "LogisticRegression(train) accuracy = 0.646730016769\n",
      "LogisticRegression(test) accuracy = 0.66015625\n"
     ]
    }
   ],
   "source": [
    "poly = PolynomialFeatures(2)\n",
    "X_train_poly = poly.fit_transform(X_train)\n",
    "X_cv_poly = poly.fit_transform(X_cv)\n",
    "\n",
    "model = LogisticRegression()\n",
    "model.fit(X_train_poly, y_train)\n",
    "trainPredict = model.predict(X_train_poly)\n",
    "testPredict = model.predict(X_cv_poly)\n",
    "\n",
    "print(\"LogisticRegression(train) accuracy =\", accuracy_score(y_train, trainPredict))\n",
    "print(\"LogisticRegression(test) accuracy =\", accuracy_score(y_cv, testPredict))"
   ]
  },
  {
   "cell_type": "markdown",
   "metadata": {},
   "source": [
    "<h3>5. Предсказываем поведение RTSI на завтра</h3>\n",
    "<p>Вызови из верхнего меню Cell-Run All Above</p>\n",
    "<p>Задай значения для brent, usd_rub, weekday, month</p>\n",
    "<p>Запусти нижний блок. 0 - без изменений, 1 - рост, 2 - падение</p>"
   ]
  },
  {
   "cell_type": "code",
   "execution_count": 11,
   "metadata": {},
   "outputs": [
    {
     "name": "stdout",
     "output_type": "stream",
     "text": [
      "1\n"
     ]
    }
   ],
   "source": [
    "brent = 1\n",
    "usd_rub = 2\n",
    "sandp = 1\n",
    "weekday = 1\n",
    "month = 2\n",
    "X = np.array([brent, usd_rub, sandp, weekday, month])\n",
    "pred = model.predict(poly.fit_transform(X.reshape(1, -1)))\n",
    "print(pred[0])"
   ]
  }
 ],
 "metadata": {
  "kernelspec": {
   "display_name": "Python 3",
   "language": "python",
   "name": "python3"
  },
  "language_info": {
   "codemirror_mode": {
    "name": "ipython",
    "version": 3
   },
   "file_extension": ".py",
   "mimetype": "text/x-python",
   "name": "python",
   "nbconvert_exporter": "python",
   "pygments_lexer": "ipython3",
   "version": "3.5.2"
  }
 },
 "nbformat": 4,
 "nbformat_minor": 2
}
