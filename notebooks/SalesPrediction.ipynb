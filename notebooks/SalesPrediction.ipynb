{
 "cells": [
  {
   "cell_type": "code",
   "execution_count": null,
   "metadata": {
    "collapsed": true
   },
   "outputs": [],
   "source": [
    "import warnings\n",
    "warnings.simplefilter('ignore')\n",
    "\n",
    "import pandas as pd\n",
    "import numpy as np\n",
    "\n",
    "%matplotlib inline \n",
    "import matplotlib.pyplot as plt\n",
    "import seaborn as sns\n",
    "plt.rcParams['figure.figsize'] = (16, 8)\n",
    "\n",
    "from sklearn.model_selection import train_test_split, GridSearchCV\n",
    "from sklearn.preprocessing import StandardScaler, PolynomialFeatures\n",
    "from sklearn.pipeline import Pipeline\n",
    "from sklearn.metrics import mean_squared_error\n",
    "\n",
    "from sklearn.neighbors import KNeighborsRegressor\n",
    "from sklearn.linear_model import LinearRegression"
   ]
  },
  {
   "cell_type": "code",
   "execution_count": null,
   "metadata": {
    "collapsed": true
   },
   "outputs": [],
   "source": [
    "data = pd.read_excel('./data/shop.xls', header=None)"
   ]
  },
  {
   "cell_type": "code",
   "execution_count": null,
   "metadata": {
    "collapsed": true
   },
   "outputs": [],
   "source": [
    "df = data[[0]]\n",
    "df['sales'] = 0\n",
    "\n",
    "for i in range(1, len(data.columns), 2):\n",
    "    sales = data[i]\n",
    "    sales = sales.replace(' ', 0)\n",
    "    sales = sales.astype('float64')\n",
    "    df['sales'] = df['sales'] + sales\n",
    "\n",
    "df.drop(0, axis=1, inplace=True)"
   ]
  },
  {
   "cell_type": "code",
   "execution_count": null,
   "metadata": {
    "collapsed": true
   },
   "outputs": [],
   "source": [
    "not_empty = []\n",
    "for i in range(data.shape[0]):\n",
    "    row = data.iloc[[i]]\n",
    "    count = 0\n",
    "    for j in range(1, len(data.columns), 2):\n",
    "        if row[j][i] != ' ':\n",
    "            count += 1\n",
    "    not_empty.append(count)"
   ]
  },
  {
   "cell_type": "code",
   "execution_count": null,
   "metadata": {
    "collapsed": true
   },
   "outputs": [],
   "source": [
    "df['sales_avg'] = np.divide(df['sales'], not_empty)"
   ]
  },
  {
   "cell_type": "code",
   "execution_count": null,
   "metadata": {
    "collapsed": true
   },
   "outputs": [],
   "source": [
    "y = df['sales_avg']"
   ]
  },
  {
   "cell_type": "code",
   "execution_count": null,
   "metadata": {
    "collapsed": true
   },
   "outputs": [],
   "source": [
    "train_size = int(len(y) * 0.6)\n",
    "test_size = int((len(y) - train_size) / 2)\n",
    "train, test = y[0:train_size], y[train_size:train_size + test_size]\n",
    "X_train = np.arange(train_size)\n",
    "X_test = np.arange(train_size, train_size + test_size)\n",
    "X_holdout = np.arange(train_size + test_size, len(y))"
   ]
  },
  {
   "cell_type": "code",
   "execution_count": null,
   "metadata": {
    "collapsed": true
   },
   "outputs": [],
   "source": [
    "def create_dataset(dataset, look_back=1):\n",
    "    dataX, dataY = [], []\n",
    "    for i in range(len(dataset)-look_back):\n",
    "        a = dataset[i:(i+look_back), 0]\n",
    "        dataX.append(a)\n",
    "        dataY.append(dataset[i + look_back, 0])\n",
    "    return np.array(dataX), np.array(dataY)"
   ]
  },
  {
   "cell_type": "code",
   "execution_count": null,
   "metadata": {
    "collapsed": true
   },
   "outputs": [],
   "source": [
    "look_back = 5\n",
    "trainX, trainY = create_dataset(train.reshape(-1, 1), look_back)\n",
    "testX, testY = create_dataset(test.reshape(-1, 1), look_back)"
   ]
  },
  {
   "cell_type": "code",
   "execution_count": null,
   "metadata": {},
   "outputs": [],
   "source": [
    "knn_pipe = Pipeline([('scaler', StandardScaler()), ('knn', KNeighborsRegressor(n_jobs=-1))])\n",
    "knn_params = {'knn__n_neighbors': range(1, 20)}\n",
    "\n",
    "model = GridSearchCV(knn_pipe, knn_params, cv=5, n_jobs=-1)\n",
    "model.fit(trainX, trainY)\n",
    "trainPredict = model.predict(trainX)\n",
    "testPredict = model.predict(testX)\n",
    "\n",
    "print(\"kNN(train) mse =\", mean_squared_error(trainY, trainPredict))\n",
    "print(\"kNN(test) mse =\", mean_squared_error(testY, testPredict))\n",
    "print(model.best_params_)"
   ]
  },
  {
   "cell_type": "code",
   "execution_count": null,
   "metadata": {},
   "outputs": [],
   "source": [
    "plt.plot(y);\n",
    "\n",
    "y_train_pred = np.r_[y[0:look_back], trainPredict]\n",
    "plt.plot(X_train, y_train_pred);\n",
    "y_test_pred = np.r_[y[train_size: train_size + look_back], testPredict]\n",
    "plt.plot(X_test, y_test_pred);\n",
    "\n",
    "yy = y[train_size + test_size - look_back: train_size + test_size]\n",
    "\n",
    "nextX = yy\n",
    "\n",
    "for i in range(len(X_holdout)):\n",
    "    pred = model.predict(nextX.reshape(1, -1))\n",
    "    yy = np.append(yy, pred)\n",
    "    nextX = np.append(nextX[1:len(nextX)], pred)\n",
    "\n",
    "plt.plot(X_holdout, yy[look_back:len(yy)]);\n",
    "# plt.savefig('graph.svg', format='svg')"
   ]
  },
  {
   "cell_type": "code",
   "execution_count": null,
   "metadata": {
    "collapsed": true
   },
   "outputs": [],
   "source": [
    "res = np.r_[y[0:look_back], trainPredict, y[train_size: train_size + look_back], testPredict]\n",
    "\n",
    "yy = y[train_size + test_size - look_back: train_size + test_size]\n",
    "\n",
    "nextX = yy\n",
    "\n",
    "for i in range(len(X_holdout)):\n",
    "    pred = model.predict(nextX.reshape(1, -1))\n",
    "    yy = np.append(yy, pred)\n",
    "    nextX = np.append(nextX[1:len(nextX)], pred)\n",
    "\n",
    "res = np.r_[res, yy[look_back:len(yy)]]"
   ]
  },
  {
   "cell_type": "code",
   "execution_count": null,
   "metadata": {
    "collapsed": true
   },
   "outputs": [],
   "source": [
    "sales_avg = np.array(y)\n",
    "writer = pd.ExcelWriter('res.xls')\n",
    "res_df = pd.DataFrame({\n",
    "    'sales_avg': sales_avg, 'sales_avg_pred': res\n",
    "})\n",
    "res_df.to_excel(writer, sheet_name='Sheet1')\n",
    "writer.save()"
   ]
  }
 ],
 "metadata": {
  "kernelspec": {
   "display_name": "Python 3",
   "language": "python",
   "name": "python3"
  },
  "language_info": {
   "codemirror_mode": {
    "name": "ipython",
    "version": 3
   },
   "file_extension": ".py",
   "mimetype": "text/x-python",
   "name": "python",
   "nbconvert_exporter": "python",
   "pygments_lexer": "ipython3",
   "version": "3.5.2"
  }
 },
 "nbformat": 4,
 "nbformat_minor": 2
}
