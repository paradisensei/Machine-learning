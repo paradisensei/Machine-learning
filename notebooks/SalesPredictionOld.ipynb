{
 "cells": [
  {
   "cell_type": "code",
   "execution_count": 170,
   "metadata": {
    "collapsed": true
   },
   "outputs": [],
   "source": [
    "import warnings\n",
    "warnings.simplefilter('ignore')\n",
    "\n",
    "import pandas as pd\n",
    "import numpy as np\n",
    "\n",
    "%matplotlib inline \n",
    "import matplotlib.pyplot as plt\n",
    "import seaborn as sns\n",
    "plt.rcParams['figure.figsize'] = (8, 6)\n",
    "\n",
    "from sklearn.model_selection import train_test_split, GridSearchCV\n",
    "from sklearn.preprocessing import StandardScaler, PolynomialFeatures\n",
    "from sklearn.pipeline import Pipeline\n",
    "from sklearn.metrics import mean_squared_error\n",
    "\n",
    "from sklearn.neighbors import KNeighborsRegressor\n",
    "from sklearn.tree import DecisionTreeRegressor\n",
    "from sklearn.linear_model import LinearRegression\n",
    "from sklearn.neural_network import MLPRegressor"
   ]
  },
  {
   "cell_type": "code",
   "execution_count": 171,
   "metadata": {
    "collapsed": true
   },
   "outputs": [],
   "source": [
    "df = pd.read_excel('./data/shop.xls', header=None)"
   ]
  },
  {
   "cell_type": "code",
   "execution_count": 172,
   "metadata": {
    "collapsed": true
   },
   "outputs": [],
   "source": [
    "from dateutil.parser import parse\n",
    "df['month'] = df[0].apply(lambda x: parse(x, dayfirst=True).month)\n",
    "df['weekend'] = df[0].apply(lambda x: parse(x, dayfirst=True).weekday() in [5, 6])\n",
    "df['weekend'] = df['weekend'].apply(lambda w: 1 if w else 0)\n",
    "df.drop(0, axis=1, inplace=True)\n",
    "\n",
    "df[1] = df[1].replace(' ', 0).astype('float64')\n",
    "\n",
    "df[2] = df[2].replace(' ', 0).astype('float64')\n",
    "\n",
    "df.rename(columns = {\n",
    "    1: 'sales',\n",
    "    2: 'discount'\n",
    "}, inplace=True);"
   ]
  },
  {
   "cell_type": "code",
   "execution_count": 173,
   "metadata": {},
   "outputs": [
    {
     "data": {
      "image/png": "[encoded data removed]",
      "text/plain": [
       "<matplotlib.figure.Figure at 0x7f93c13df048>"
      ]
     },
     "metadata": {},
     "output_type": "display_data"
    }
   ],
   "source": [
    "sns.heatmap(df.corr());"
   ]
  },
  {
   "cell_type": "code",
   "execution_count": 174,
   "metadata": {
    "collapsed": true
   },
   "outputs": [],
   "source": [
    "length = df.shape[0]\n",
    "holdout_size = int(length * 0.1)\n",
    "df_holdout = df[(length - holdout_size):length]\n",
    "df.drop(np.arange(length - holdout_size, length), inplace=True)"
   ]
  },
  {
   "cell_type": "code",
   "execution_count": 175,
   "metadata": {
    "collapsed": true
   },
   "outputs": [],
   "source": [
    "y = df['sales'].values\n",
    "df.drop(['sales'], axis=1, inplace=True)"
   ]
  },
  {
   "cell_type": "code",
   "execution_count": 176,
   "metadata": {},
   "outputs": [],
   "source": [
    "X_train, X_cv, y_train, y_cv = train_test_split(df.values, y, test_size=0.3)"
   ]
  },
  {
   "cell_type": "code",
   "execution_count": 177,
   "metadata": {},
   "outputs": [
    {
     "name": "stdout",
     "output_type": "stream",
     "text": [
      "kNN(train) mse = 5308.746849\n",
      "kNN(test) mse = 11652.7429785\n",
      "{'knn__n_neighbors': 3}\n"
     ]
    }
   ],
   "source": [
    "from sklearn.pipeline import Pipeline\n",
    "\n",
    "knn_pipe = Pipeline([('scaler', StandardScaler()), ('knn', KNeighborsRegressor(n_jobs=-1))])\n",
    "knn_params = {'knn__n_neighbors': range(1, 30)}\n",
    "\n",
    "model = GridSearchCV(knn_pipe, knn_params, cv=5, n_jobs=-1)\n",
    "model.fit(X_train, y_train)\n",
    "trainPredict = model.predict(X_train)\n",
    "testPredict = model.predict(X_cv)\n",
    "\n",
    "print(\"kNN(train) mse =\", mean_squared_error(y_train, trainPredict))\n",
    "print(\"kNN(test) mse =\", mean_squared_error(y_cv, testPredict))\n",
    "print(model.best_params_)"
   ]
  },
  {
   "cell_type": "code",
   "execution_count": 178,
   "metadata": {},
   "outputs": [
    {
     "name": "stdout",
     "output_type": "stream",
     "text": [
      "tree(train) mse = 3770.33410457\n",
      "tree(test) mse = 10781.1572111\n",
      "{'min_samples_leaf': 1, 'max_depth': 8}\n"
     ]
    }
   ],
   "source": [
    "tree_params = {'max_depth': range(1,30), 'min_samples_leaf': range(1,30)}\n",
    "\n",
    "model = GridSearchCV(DecisionTreeRegressor(), tree_params, cv=5, n_jobs=-1)\n",
    "model.fit(X_train, y_train)\n",
    "trainPredict = model.predict(X_train)\n",
    "testPredict = model.predict(X_cv)\n",
    "\n",
    "print(\"tree(train) mse =\", mean_squared_error(y_train, trainPredict))\n",
    "print(\"tree(test) mse =\", mean_squared_error(y_cv, testPredict))\n",
    "print(model.best_params_)"
   ]
  },
  {
   "cell_type": "code",
   "execution_count": 179,
   "metadata": {},
   "outputs": [
    {
     "name": "stdout",
     "output_type": "stream",
     "text": [
      "LinearRegression(train) mse = 3932.05867228\n",
      "LinearRegression(test) mse = 6561270.8461\n"
     ]
    }
   ],
   "source": [
    "poly = PolynomialFeatures(5)\n",
    "X_train_poly = poly.fit_transform(X_train)\n",
    "X_cv_poly = poly.fit_transform(X_cv)\n",
    "\n",
    "model = LinearRegression()\n",
    "model.fit(X_train_poly, y_train)\n",
    "trainPredict = model.predict(X_train_poly)\n",
    "testPredict = model.predict(X_cv_poly)\n",
    "\n",
    "print(\"LinearRegression(train) mse =\", mean_squared_error(y_train, trainPredict))\n",
    "print(\"LinearRegression(test) mse =\", mean_squared_error(y_cv, testPredict))"
   ]
  },
  {
   "cell_type": "code",
   "execution_count": 180,
   "metadata": {},
   "outputs": [
    {
     "name": "stdout",
     "output_type": "stream",
     "text": [
      "MLPRegressor(train) mse = 8283.54657953\n",
      "MLPRegressor(test) mse = 14867.480651\n"
     ]
    }
   ],
   "source": [
    "scaler = StandardScaler()\n",
    "scaler.fit(X_train)\n",
    "X_train_norm = scaler.transform(X_train)\n",
    "X_cv_norm = scaler.transform(X_cv)\n",
    "\n",
    "model = MLPRegressor(hidden_layer_sizes=(1000, 1000))\n",
    "model.fit(X_train_norm, y_train)\n",
    "trainPredict = model.predict(X_train_norm)\n",
    "testPredict = model.predict(X_cv_norm)\n",
    "\n",
    "print(\"MLPRegressor(train) mse =\", mean_squared_error(y_train, trainPredict))\n",
    "print(\"MLPRegressor(test) mse =\", mean_squared_error(y_cv, testPredict))"
   ]
  },
  {
   "cell_type": "code",
   "execution_count": 181,
   "metadata": {
    "collapsed": true
   },
   "outputs": [],
   "source": [
    "y_holdout = df_holdout['sales'].values\n",
    "df_holdout.drop(['sales'], axis=1, inplace=True)"
   ]
  },
  {
   "cell_type": "code",
   "execution_count": 182,
   "metadata": {},
   "outputs": [
    {
     "data": {
      "text/plain": [
       "42252206.53310886"
      ]
     },
     "execution_count": 182,
     "metadata": {},
     "output_type": "execute_result"
    }
   ],
   "source": [
    "holdoutPredict = model.predict(df_holdout.values)\n",
    "mean_squared_error(y_holdout, holdoutPredict)"
   ]
  }
 ],
 "metadata": {
  "kernelspec": {
   "display_name": "Python 3",
   "language": "python",
   "name": "python3"
  },
  "language_info": {
   "codemirror_mode": {
    "name": "ipython",
    "version": 3
   },
   "file_extension": ".py",
   "mimetype": "text/x-python",
   "name": "python",
   "nbconvert_exporter": "python",
   "pygments_lexer": "ipython3",
   "version": "3.5.2"
  }
 },
 "nbformat": 4,
 "nbformat_minor": 2
}
