{
 "cells": [
  {
   "cell_type": "code",
   "execution_count": null,
   "metadata": {
    "collapsed": true
   },
   "outputs": [],
   "source": [
    "import warnings\n",
    "warnings.simplefilter('ignore')\n",
    "\n",
    "import pandas as pd\n",
    "import numpy as np\n",
    "\n",
    "%matplotlib inline \n",
    "import matplotlib.pyplot as plt\n",
    "import seaborn as sns\n",
    "plt.rcParams['figure.figsize'] = (8, 6)\n",
    "\n",
    "from sklearn.manifold import TSNE\n",
    "from sklearn.preprocessing import StandardScaler\n",
    "from sklearn.model_selection import train_test_split, GridSearchCV\n",
    "from sklearn.metrics import accuracy_score\n",
    "\n",
    "from sklearn.tree import DecisionTreeClassifier\n",
    "from sklearn.neighbors import KNeighborsClassifier"
   ]
  },
  {
   "cell_type": "markdown",
   "metadata": {},
   "source": [
    "<h3>1. Считываем данные по индексу RTSI за годы 2010-2016</h3>"
   ]
  },
  {
   "cell_type": "code",
   "execution_count": null,
   "metadata": {
    "collapsed": true
   },
   "outputs": [],
   "source": [
    "df = pd.read_csv('data/RTSI_2010-2016.csv')"
   ]
  },
  {
   "cell_type": "code",
   "execution_count": null,
   "metadata": {},
   "outputs": [],
   "source": [
    "df.describe()"
   ]
  },
  {
   "cell_type": "markdown",
   "metadata": {},
   "source": [
    "<h3>2. Избавляемся от ненужных фич, добавляем пропущенные выходные дни </h3>"
   ]
  },
  {
   "cell_type": "code",
   "execution_count": null,
   "metadata": {
    "collapsed": true
   },
   "outputs": [],
   "source": [
    "df.drop(['<TIME>', '<HIGH>', '<LOW>', '<VOL>'], axis=1, inplace=True)"
   ]
  },
  {
   "cell_type": "code",
   "execution_count": null,
   "metadata": {
    "collapsed": true
   },
   "outputs": [],
   "source": [
    "# 0 - цена не изменилась\n",
    "# 1 - цена выросла\n",
    "# 2 - цена упала\n",
    "df['diff'] = (df['<CLOSE>'] - df['<OPEN>']).astype(int)\n",
    "df['result'] = df['diff'].apply(lambda d: 1 if d > 0 else 2 if d < 0 else 0)\n",
    "\n",
    "df.drop(['<OPEN>', '<CLOSE>', 'diff'], axis=1, inplace=True)"
   ]
  },
  {
   "cell_type": "code",
   "execution_count": null,
   "metadata": {
    "collapsed": true
   },
   "outputs": [],
   "source": [
    "df.set_index('<DATE>', inplace=True)"
   ]
  },
  {
   "cell_type": "code",
   "execution_count": null,
   "metadata": {
    "collapsed": true
   },
   "outputs": [],
   "source": [
    "idx = pd.date_range('01/01/10', '12/31/2016')\n",
    "df.index = pd.DatetimeIndex(df.index)\n",
    "df = df.reindex(idx, fill_value=0)"
   ]
  },
  {
   "cell_type": "code",
   "execution_count": null,
   "metadata": {
    "collapsed": true
   },
   "outputs": [],
   "source": [
    "df = df.reset_index()\n",
    "df = df.rename(columns = {'index': '<DATE>'})"
   ]
  },
  {
   "cell_type": "code",
   "execution_count": null,
   "metadata": {},
   "outputs": [],
   "source": [
    "df.head()"
   ]
  },
  {
   "cell_type": "markdown",
   "metadata": {},
   "source": [
    "<h3>3. Форматируем данные</h3>"
   ]
  },
  {
   "cell_type": "code",
   "execution_count": null,
   "metadata": {
    "collapsed": true
   },
   "outputs": [],
   "source": [
    "df['weekday'] = df['<DATE>'].apply(lambda d: d.weekday())\n",
    "df['month'] = df['<DATE>'].apply(lambda d: d.month)\n",
    "\n",
    "df.drop('<DATE>', axis=1, inplace=True)"
   ]
  },
  {
   "cell_type": "markdown",
   "metadata": {},
   "source": [
    "<h3>4. Смотрим на пару табличек и графиков, построенных по нашим данным</h3>"
   ]
  },
  {
   "cell_type": "code",
   "execution_count": null,
   "metadata": {},
   "outputs": [],
   "source": [
    "df['result'].value_counts()"
   ]
  },
  {
   "cell_type": "code",
   "execution_count": null,
   "metadata": {},
   "outputs": [],
   "source": [
    "df.groupby('result')['weekday', 'month'].describe(percentiles=[])"
   ]
  },
  {
   "cell_type": "code",
   "execution_count": null,
   "metadata": {},
   "outputs": [],
   "source": [
    "pd.crosstab(df['result'], df['weekday'], margins=True)"
   ]
  },
  {
   "cell_type": "code",
   "execution_count": null,
   "metadata": {},
   "outputs": [],
   "source": [
    "sns.countplot(x='weekday', hue='result', data=df);"
   ]
  },
  {
   "cell_type": "code",
   "execution_count": null,
   "metadata": {},
   "outputs": [],
   "source": [
    "df['result'].value_counts().plot(kind='bar', label='result')"
   ]
  },
  {
   "cell_type": "code",
   "execution_count": null,
   "metadata": {
    "collapsed": true
   },
   "outputs": [],
   "source": [
    "X = df.drop('result', axis=1)\n",
    "scaler = StandardScaler()\n",
    "X_scaled = scaler.fit_transform(X)"
   ]
  },
  {
   "cell_type": "code",
   "execution_count": null,
   "metadata": {},
   "outputs": [],
   "source": [
    "%%time\n",
    "tsne = TSNE(random_state=17)\n",
    "tsne_representation = tsne.fit_transform(X_scaled)\n",
    "plt.scatter(tsne_representation[:, 0], tsne_representation[:, 1], \n",
    "            c=df['result'].map({0: 'blue', 1: 'orange', 2: 'red'}));"
   ]
  },
  {
   "cell_type": "markdown",
   "metadata": {},
   "source": [
    "<h3>5. Обучаем две модели, используя алгоритмы kNN и деревья решений</h3>\n",
    "<h4>Как работает дерево решений?</h4>\n",
    "<p>Классическое дерево решений как алгоритм машинного обучения объединяет логические правила вида \"Значение признака  $a$  меньше  $x$ => одно из искомых значений (0,1,2)\". Огромное преимущество деревьев решений в том, что они легко интерпретируемы, понятны человеку. Например, по визуализации нашего дерева видно, что в корне дерева проверяется день недели: если это суббота или воскресенье, то практически наверняка цена не изменится и модель прескажет 0</p>\n",
    "<h4>Как работает kNN?</h4>\n",
    "<p>Метод ближайших соседей (k Nearest Neighbors, или kNN) - тоже очень популярный метод классификации. Например, если ты хочешь предсказать результат торгов в субботу, посмотри на другие похожие дни (то есть выходные) и выбери преобладающее среди них значение результата торгов - скорее всего, получишь 0</p>"
   ]
  },
  {
   "cell_type": "code",
   "execution_count": null,
   "metadata": {
    "collapsed": true
   },
   "outputs": [],
   "source": [
    "y = df['result'].values\n",
    "df.drop('result', axis=1, inplace=True)"
   ]
  },
  {
   "cell_type": "code",
   "execution_count": null,
   "metadata": {},
   "outputs": [],
   "source": [
    "X_train, X_cv, y_train, y_cv = train_test_split(df.values, y, test_size=0.3, random_state=17)\n",
    "\n",
    "tree = DecisionTreeClassifier(max_depth=3, random_state=17)\n",
    "tree.fit(X_train, y_train)\n",
    "accuracy_score(y_cv, tree.predict(X_cv))"
   ]
  },
  {
   "cell_type": "code",
   "execution_count": null,
   "metadata": {},
   "outputs": [],
   "source": [
    "tree_params = {'max_depth': range(1,11)}\n",
    "\n",
    "tree_grid = GridSearchCV(tree, tree_params, cv=5, n_jobs=-1, verbose=True)\n",
    "tree_grid.fit(X_train, y_train)\n",
    "tree_grid.best_params_"
   ]
  },
  {
   "cell_type": "code",
   "execution_count": null,
   "metadata": {
    "collapsed": true
   },
   "outputs": [],
   "source": [
    "# draw decision tree\n",
    "from sklearn.tree import export_graphviz\n",
    "\n",
    "export_graphviz(tree, feature_names=df.columns.values, \n",
    "                out_file='tree.dot', filled=True)\n",
    "!dot -Tpng tree.dot -o tree.png\n",
    "!rm tree.dot"
   ]
  },
  {
   "cell_type": "code",
   "execution_count": null,
   "metadata": {},
   "outputs": [],
   "source": [
    "knn = KNeighborsClassifier(n_neighbors=6)\n",
    "knn.fit(X_train, y_train)\n",
    "accuracy_score(y_cv, knn.predict(X_cv))"
   ]
  },
  {
   "cell_type": "code",
   "execution_count": null,
   "metadata": {},
   "outputs": [],
   "source": [
    "from sklearn.pipeline import Pipeline\n",
    "\n",
    "knn_pipe = Pipeline([('scaler', StandardScaler()), ('knn', KNeighborsClassifier(n_jobs=-1))])\n",
    "knn_params = {'knn__n_neighbors': range(1, 10)}\n",
    "\n",
    "knn_grid = GridSearchCV(knn_pipe, knn_params, cv=5, n_jobs=-1, verbose=True)\n",
    "knn_grid.fit(X_train, y_train)\n",
    "knn_grid.best_params_"
   ]
  },
  {
   "cell_type": "markdown",
   "metadata": {},
   "source": [
    "<h4> Средняя доля правильных ответов на тестовой выборке составляет примерно 60%</h4>"
   ]
  },
  {
   "cell_type": "markdown",
   "metadata": {},
   "source": [
    "<h3>6. Теперь с помощью обученных моделей предскажем поведение индекса RTSI в 2017 году</h3>"
   ]
  },
  {
   "cell_type": "code",
   "execution_count": null,
   "metadata": {},
   "outputs": [],
   "source": [
    "test_df = pd.read_csv('data/RTSI_2017.csv')\n",
    "test_df.drop(['<TIME>', '<HIGH>', '<LOW>', '<VOL>'], axis=1, inplace=True)\n",
    "\n",
    "# 0 - цена не изменилась\n",
    "# 1 - цена выросла\n",
    "# 2 - цена упала\n",
    "test_df['diff'] = (test_df['<CLOSE>'] - test_df['<OPEN>']).astype(int)\n",
    "test_df['result'] = test_df['diff'].apply(lambda d: 1 if d > 0 else 2 if d < 0 else 0)\n",
    "test_df.drop(['<OPEN>', '<CLOSE>', 'diff'], axis=1, inplace=True)\n",
    "\n",
    "test_df.set_index('<DATE>', inplace=True)\n",
    "idx = pd.date_range('01/01/17', '09/26/17')\n",
    "test_df.index = pd.DatetimeIndex(test_df.index)\n",
    "test_df = test_df.reindex(idx, fill_value=0)\n",
    "test_df = test_df.reset_index()\n",
    "test_df = test_df.rename(columns = {'index': '<DATE>'})\n",
    "\n",
    "test_df['weekday'] = test_df['<DATE>'].apply(lambda d: d.weekday())\n",
    "test_df['month'] = test_df['<DATE>'].apply(lambda d: d.month)\n",
    "test_df.drop('<DATE>', axis=1, inplace=True)\n",
    "\n",
    "y_test = test_df['result'].values\n",
    "test_df.drop('result', axis=1, inplace=True)\n",
    "\n",
    "accuracy_score(y_test, tree.predict(test_df.values))\n",
    "accuracy_score(y_test, knn.predict(test_df.values))"
   ]
  },
  {
   "cell_type": "markdown",
   "metadata": {},
   "source": [
    "<h4> Средняя доля правильных ответов на этой выборке также составляет примерно 60%</h4>"
   ]
  }
 ],
 "metadata": {
  "kernelspec": {
   "display_name": "Python 3",
   "language": "python",
   "name": "python3"
  },
  "language_info": {
   "codemirror_mode": {
    "name": "ipython",
    "version": 3
   },
   "file_extension": ".py",
   "mimetype": "text/x-python",
   "name": "python",
   "nbconvert_exporter": "python",
   "pygments_lexer": "ipython3",
   "version": "3.5.2"
  }
 },
 "nbformat": 4,
 "nbformat_minor": 2
}
