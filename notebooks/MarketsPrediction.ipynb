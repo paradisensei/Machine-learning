{
 "cells": [
  {
   "cell_type": "code",
   "execution_count": 33,
   "metadata": {
    "collapsed": true
   },
   "outputs": [],
   "source": [
    "import warnings\n",
    "warnings.simplefilter('ignore')\n",
    "\n",
    "import pandas as pd\n",
    "import numpy as np\n",
    "\n",
    "%matplotlib inline \n",
    "import matplotlib.pyplot as plt\n",
    "import seaborn as sns\n",
    "plt.rcParams['figure.figsize'] = (8, 6)\n",
    "\n",
    "from sklearn.preprocessing import StandardScaler, PolynomialFeatures\n",
    "from sklearn.model_selection import train_test_split, GridSearchCV\n",
    "from sklearn.metrics import accuracy_score\n",
    "\n",
    "from sklearn.tree import DecisionTreeClassifier\n",
    "from sklearn.neighbors import KNeighborsClassifier\n",
    "from sklearn.linear_model import LogisticRegression\n",
    "from sklearn.neural_network import MLPClassifier\n",
    "from sklearn.svm import SVC"
   ]
  },
  {
   "cell_type": "markdown",
   "metadata": {},
   "source": [
    "<h3>1. Считываем данные по индексу RTSI, Brent, Usd/Rub, S&P 500 за годы 2010-2016</h3>"
   ]
  },
  {
   "cell_type": "code",
   "execution_count": 34,
   "metadata": {
    "collapsed": true
   },
   "outputs": [],
   "source": [
    "rtsi_df = pd.read_csv('data/RTSI_2010-2016.csv')\n",
    "brent_df = pd.read_csv('data/Brent_2010-2016.csv')\n",
    "usdrub_df = pd.read_csv('data/USD_RUB_2010-2016.csv')\n",
    "sandp_df = pd.read_csv('data/SANDP-500_2010-2016.csv')"
   ]
  },
  {
   "cell_type": "markdown",
   "metadata": {},
   "source": [
    "<h3>2. Избавляемся от ненужных фич, добавляем пропущенные выходные дни и новые фичи</h3>\n",
    "<h4>Новые фичи:</h4>\n",
    "<p>Берем биржевые данные по Brent, Usd/Rub и S&P 500. Находим, что произошло с этими инструментами за день до интересующего нас дня. 0 - если цена инструмента за день не изменилась, 1 - если выросла, 2 - если упала. Используем эти данные для предсказания поведения индекса RTSI на следующий день.</p>"
   ]
  },
  {
   "cell_type": "code",
   "execution_count": 35,
   "metadata": {
    "collapsed": true
   },
   "outputs": [],
   "source": [
    "def process(df, date_low, date_up):\n",
    "    df.drop(['<TIME>', '<HIGH>', '<LOW>', '<VOL>'], axis=1, inplace=True)\n",
    "    \n",
    "    # 0 - цена не изменилась\n",
    "    # 1 - цена выросла\n",
    "    # 2 - цена упала\n",
    "    df['diff'] = (df['<CLOSE>'] - df['<OPEN>']).astype(float)\n",
    "    df['result'] = df['diff'].apply(lambda d: 1 if d > 0 else 2 if d < 0 else 0)\n",
    "    df.drop(['<OPEN>', '<CLOSE>', 'diff'], axis=1, inplace=True)\n",
    "    \n",
    "    df.set_index('<DATE>', inplace=True)\n",
    "    \n",
    "    idx = pd.date_range(date_low, date_up)\n",
    "    df.index = pd.DatetimeIndex(df.index)\n",
    "    df = df.reindex(idx, fill_value=0)\n",
    "    \n",
    "    df = df.reset_index()\n",
    "    df = df.rename(columns = {'index': '<DATE>'})\n",
    "    \n",
    "    return df"
   ]
  },
  {
   "cell_type": "code",
   "execution_count": 36,
   "metadata": {
    "collapsed": true
   },
   "outputs": [],
   "source": [
    "rtsi_df = process(rtsi_df, '01/01/10', '12/31/2016')\n",
    "\n",
    "brent_df = process(brent_df, '12/31/09', '12/30/2016')\n",
    "usdrub_df = process(usdrub_df, '12/31/09', '12/30/2016')\n",
    "sandp_df = process(sandp_df, '12/31/09', '12/30/2016')"
   ]
  },
  {
   "cell_type": "code",
   "execution_count": 37,
   "metadata": {
    "collapsed": true
   },
   "outputs": [],
   "source": [
    "df = rtsi_df\n",
    "df['brent'] = brent_df['result']\n",
    "df['usd_rub'] = usdrub_df['result']\n",
    "df['sandp'] = sandp_df['result']"
   ]
  },
  {
   "cell_type": "code",
   "execution_count": 38,
   "metadata": {},
   "outputs": [
    {
     "data": {
      "text/html": [
       "<div>\n",
       "<style>\n",
       "    .dataframe thead tr:only-child th {\n",
       "        text-align: right;\n",
       "    }\n",
       "\n",
       "    .dataframe thead th {\n",
       "        text-align: left;\n",
       "    }\n",
       "\n",
       "    .dataframe tbody tr th {\n",
       "        vertical-align: top;\n",
       "    }\n",
       "</style>\n",
       "<table border=\"1\" class=\"dataframe\">\n",
       "  <thead>\n",
       "    <tr style=\"text-align: right;\">\n",
       "      <th></th>\n",
       "      <th>&lt;DATE&gt;</th>\n",
       "      <th>result</th>\n",
       "      <th>brent</th>\n",
       "      <th>usd_rub</th>\n",
       "      <th>sandp</th>\n",
       "    </tr>\n",
       "  </thead>\n",
       "  <tbody>\n",
       "    <tr>\n",
       "      <th>0</th>\n",
       "      <td>2010-01-01</td>\n",
       "      <td>0</td>\n",
       "      <td>2</td>\n",
       "      <td>2</td>\n",
       "      <td>2</td>\n",
       "    </tr>\n",
       "    <tr>\n",
       "      <th>1</th>\n",
       "      <td>2010-01-02</td>\n",
       "      <td>0</td>\n",
       "      <td>0</td>\n",
       "      <td>1</td>\n",
       "      <td>1</td>\n",
       "    </tr>\n",
       "    <tr>\n",
       "      <th>2</th>\n",
       "      <td>2010-01-03</td>\n",
       "      <td>0</td>\n",
       "      <td>0</td>\n",
       "      <td>0</td>\n",
       "      <td>0</td>\n",
       "    </tr>\n",
       "    <tr>\n",
       "      <th>3</th>\n",
       "      <td>2010-01-04</td>\n",
       "      <td>0</td>\n",
       "      <td>0</td>\n",
       "      <td>0</td>\n",
       "      <td>0</td>\n",
       "    </tr>\n",
       "    <tr>\n",
       "      <th>4</th>\n",
       "      <td>2010-01-05</td>\n",
       "      <td>0</td>\n",
       "      <td>1</td>\n",
       "      <td>2</td>\n",
       "      <td>1</td>\n",
       "    </tr>\n",
       "  </tbody>\n",
       "</table>\n",
       "</div>"
      ],
      "text/plain": [
       "      <DATE>  result  brent  usd_rub  sandp\n",
       "0 2010-01-01       0      2        2      2\n",
       "1 2010-01-02       0      0        1      1\n",
       "2 2010-01-03       0      0        0      0\n",
       "3 2010-01-04       0      0        0      0\n",
       "4 2010-01-05       0      1        2      1"
      ]
     },
     "execution_count": 38,
     "metadata": {},
     "output_type": "execute_result"
    }
   ],
   "source": [
    "df.head()"
   ]
  },
  {
   "cell_type": "markdown",
   "metadata": {},
   "source": [
    "<h3>3. Форматируем данные</h3>"
   ]
  },
  {
   "cell_type": "code",
   "execution_count": 39,
   "metadata": {
    "collapsed": true
   },
   "outputs": [],
   "source": [
    "df['weekday'] = df['<DATE>'].apply(lambda d: d.weekday())\n",
    "df['month'] = df['<DATE>'].apply(lambda d: d.month)\n",
    "df.drop('<DATE>', axis=1, inplace=True)"
   ]
  },
  {
   "cell_type": "code",
   "execution_count": 40,
   "metadata": {},
   "outputs": [
    {
     "data": {
      "text/html": [
       "<div>\n",
       "<style>\n",
       "    .dataframe thead tr:only-child th {\n",
       "        text-align: right;\n",
       "    }\n",
       "\n",
       "    .dataframe thead th {\n",
       "        text-align: left;\n",
       "    }\n",
       "\n",
       "    .dataframe tbody tr th {\n",
       "        vertical-align: top;\n",
       "    }\n",
       "</style>\n",
       "<table border=\"1\" class=\"dataframe\">\n",
       "  <thead>\n",
       "    <tr style=\"text-align: right;\">\n",
       "      <th></th>\n",
       "      <th>result</th>\n",
       "      <th>brent</th>\n",
       "      <th>usd_rub</th>\n",
       "      <th>sandp</th>\n",
       "      <th>weekday</th>\n",
       "      <th>month</th>\n",
       "    </tr>\n",
       "  </thead>\n",
       "  <tbody>\n",
       "    <tr>\n",
       "      <th>0</th>\n",
       "      <td>0</td>\n",
       "      <td>2</td>\n",
       "      <td>2</td>\n",
       "      <td>2</td>\n",
       "      <td>4</td>\n",
       "      <td>1</td>\n",
       "    </tr>\n",
       "    <tr>\n",
       "      <th>1</th>\n",
       "      <td>0</td>\n",
       "      <td>0</td>\n",
       "      <td>1</td>\n",
       "      <td>1</td>\n",
       "      <td>5</td>\n",
       "      <td>1</td>\n",
       "    </tr>\n",
       "    <tr>\n",
       "      <th>2</th>\n",
       "      <td>0</td>\n",
       "      <td>0</td>\n",
       "      <td>0</td>\n",
       "      <td>0</td>\n",
       "      <td>6</td>\n",
       "      <td>1</td>\n",
       "    </tr>\n",
       "    <tr>\n",
       "      <th>3</th>\n",
       "      <td>0</td>\n",
       "      <td>0</td>\n",
       "      <td>0</td>\n",
       "      <td>0</td>\n",
       "      <td>0</td>\n",
       "      <td>1</td>\n",
       "    </tr>\n",
       "    <tr>\n",
       "      <th>4</th>\n",
       "      <td>0</td>\n",
       "      <td>1</td>\n",
       "      <td>2</td>\n",
       "      <td>1</td>\n",
       "      <td>1</td>\n",
       "      <td>1</td>\n",
       "    </tr>\n",
       "  </tbody>\n",
       "</table>\n",
       "</div>"
      ],
      "text/plain": [
       "   result  brent  usd_rub  sandp  weekday  month\n",
       "0       0      2        2      2        4      1\n",
       "1       0      0        1      1        5      1\n",
       "2       0      0        0      0        6      1\n",
       "3       0      0        0      0        0      1\n",
       "4       0      1        2      1        1      1"
      ]
     },
     "execution_count": 40,
     "metadata": {},
     "output_type": "execute_result"
    }
   ],
   "source": [
    "df.head()"
   ]
  },
  {
   "cell_type": "markdown",
   "metadata": {},
   "source": [
    "<h3>4. Смотрим на пару табличек и графиков, построенных по нашим данным</h3>"
   ]
  },
  {
   "cell_type": "code",
   "execution_count": 41,
   "metadata": {},
   "outputs": [
    {
     "data": {
      "text/plain": [
       "1    886\n",
       "2    866\n",
       "0    805\n",
       "Name: result, dtype: int64"
      ]
     },
     "execution_count": 41,
     "metadata": {},
     "output_type": "execute_result"
    }
   ],
   "source": [
    "df['result'].value_counts()"
   ]
  },
  {
   "cell_type": "code",
   "execution_count": 42,
   "metadata": {},
   "outputs": [
    {
     "data": {
      "image/png": "[encoded data removed]",
      "text/plain": [
       "<matplotlib.figure.Figure at 0x7fcd378df828>"
      ]
     },
     "metadata": {},
     "output_type": "display_data"
    }
   ],
   "source": [
    "sns.countplot(x='weekday', hue='result', data=df);"
   ]
  },
  {
   "cell_type": "code",
   "execution_count": 43,
   "metadata": {},
   "outputs": [
    {
     "data": {
      "image/png": "[encoded data removed]",
      "text/plain": [
       "<matplotlib.figure.Figure at 0x7fcd745642b0>"
      ]
     },
     "metadata": {},
     "output_type": "display_data"
    }
   ],
   "source": [
    "sns.heatmap(df.corr());"
   ]
  },
  {
   "cell_type": "markdown",
   "metadata": {},
   "source": [
    "<h3>5. Обучаем несколько моделей (kNN, дерево решений, логистическая регрессия, нейронная сеть, SVM)</h3>\n",
    "<h4>Как работает дерево решений?</h4>\n",
    "<p>Классическое дерево решений как алгоритм машинного обучения объединяет логические правила вида \"Значение признака  $a$  меньше  $x$ => одно из искомых значений (0,1,2)\". Огромное преимущество деревьев решений в том, что они легко интерпретируемы, понятны человеку. Например, по визуализации нашего дерева видно, что в корне дерева проверяется день недели: если это суббота или воскресенье, то практически наверняка цена не изменится и модель прескажет 0</p>\n",
    "<h4>Как работает kNN?</h4>\n",
    "<p>Метод ближайших соседей (k Nearest Neighbors, или kNN) - тоже очень популярный метод классификации. Например, если ты хочешь предсказать результат торгов в субботу, посмотри на другие похожие дни (то есть выходные) и выбери преобладающее среди них значение результата торгов - скорее всего, получишь 0</p>"
   ]
  },
  {
   "cell_type": "code",
   "execution_count": 44,
   "metadata": {
    "collapsed": true
   },
   "outputs": [],
   "source": [
    "y = df['result'].values\n",
    "df.drop('result', axis=1, inplace=True)"
   ]
  },
  {
   "cell_type": "code",
   "execution_count": 45,
   "metadata": {
    "collapsed": true
   },
   "outputs": [],
   "source": [
    "X_train, X_cv, y_train, y_cv = train_test_split(df.values, y, test_size=0.3, random_state=17)"
   ]
  },
  {
   "cell_type": "code",
   "execution_count": 46,
   "metadata": {},
   "outputs": [
    {
     "name": "stdout",
     "output_type": "stream",
     "text": [
      "tree(train) accuracy = 0.672442705422\n",
      "tree(test) accuracy = 0.630208333333\n",
      "{'min_samples_leaf': 9, 'max_depth': 6}\n"
     ]
    }
   ],
   "source": [
    "tree_params = {'max_depth': range(1,30), 'min_samples_leaf': range(1,30)}\n",
    "\n",
    "model = GridSearchCV(DecisionTreeClassifier(), tree_params, cv=5, n_jobs=-1)\n",
    "model.fit(X_train, y_train)\n",
    "trainPredict = model.predict(X_train)\n",
    "testPredict = model.predict(X_cv)\n",
    "\n",
    "print(\"tree(train) accuracy =\", accuracy_score(y_train, trainPredict))\n",
    "print(\"tree(test) accuracy =\", accuracy_score(y_cv, testPredict))\n",
    "print(model.best_params_)"
   ]
  },
  {
   "cell_type": "code",
   "execution_count": 47,
   "metadata": {},
   "outputs": [
    {
     "name": "stdout",
     "output_type": "stream",
     "text": [
      "kNN(train) accuracy = 0.677473448854\n",
      "kNN(test) accuracy = 0.6171875\n",
      "{'knn__n_neighbors': 18}\n"
     ]
    }
   ],
   "source": [
    "from sklearn.pipeline import Pipeline\n",
    "\n",
    "knn_pipe = Pipeline([('scaler', StandardScaler()), ('knn', KNeighborsClassifier(n_jobs=-1))])\n",
    "knn_params = {'knn__n_neighbors': range(1, 20)}\n",
    "\n",
    "model = GridSearchCV(knn_pipe, knn_params, cv=5, n_jobs=-1)\n",
    "model.fit(X_train, y_train)\n",
    "trainPredict = model.predict(X_train)\n",
    "testPredict = model.predict(X_cv)\n",
    "\n",
    "print(\"kNN(train) accuracy =\", accuracy_score(y_train, trainPredict))\n",
    "print(\"kNN(test) accuracy =\", accuracy_score(y_cv, testPredict))\n",
    "print(model.best_params_)"
   ]
  },
  {
   "cell_type": "code",
   "execution_count": 48,
   "metadata": {},
   "outputs": [
    {
     "name": "stdout",
     "output_type": "stream",
     "text": [
      "LogisticRegression(train) accuracy = 0.646730016769\n",
      "LogisticRegression(test) accuracy = 0.66015625\n"
     ]
    }
   ],
   "source": [
    "poly = PolynomialFeatures(2)\n",
    "X_train_poly = poly.fit_transform(X_train)\n",
    "X_cv_poly = poly.fit_transform(X_cv)\n",
    "\n",
    "model = LogisticRegression()\n",
    "model.fit(X_train_poly, y_train)\n",
    "trainPredict = model.predict(X_train_poly)\n",
    "testPredict = model.predict(X_cv_poly)\n",
    "\n",
    "print(\"LogisticRegression(train) accuracy =\", accuracy_score(y_train, trainPredict))\n",
    "print(\"LogisticRegression(test) accuracy =\", accuracy_score(y_cv, testPredict))"
   ]
  },
  {
   "cell_type": "code",
   "execution_count": 49,
   "metadata": {},
   "outputs": [
    {
     "name": "stdout",
     "output_type": "stream",
     "text": [
      "MLPClassifier(train) accuracy = 0.686975964226\n",
      "MLPClassifier(test) accuracy = 0.6484375\n"
     ]
    }
   ],
   "source": [
    "scaler = StandardScaler()\n",
    "scaler.fit(X_train)\n",
    "X_train_norm = scaler.transform(X_train)\n",
    "X_cv_norm = scaler.transform(X_cv)\n",
    "\n",
    "model = MLPClassifier(hidden_layer_sizes=(1000, 1000, 1000))\n",
    "# nn = GridSearchCV(MLPRegressor(), param_grid={\n",
    "#     'alpha': 10.0 ** -np.arange(1, 7),\n",
    "#     'hidden_layer_sizes': [(100), (100, 100), (200, 200)]},\n",
    "#     cv=5, n_jobs=4, verbose=True\n",
    "# )\n",
    "model.fit(X_train_norm, y_train)\n",
    "trainPredict = model.predict(X_train_norm)\n",
    "testPredict = model.predict(X_cv_norm)\n",
    "\n",
    "print(\"MLPClassifier(train) accuracy =\", accuracy_score(y_train, trainPredict))\n",
    "print(\"MLPClassifier(test) accuracy =\", accuracy_score(y_cv, testPredict))\n",
    "# print(model.best_params_)"
   ]
  },
  {
   "cell_type": "code",
   "execution_count": 50,
   "metadata": {},
   "outputs": [
    {
     "name": "stdout",
     "output_type": "stream",
     "text": [
      "SVM(train) accuracy = 0.683622135271\n",
      "SVM(test) accuracy = 0.6484375\n"
     ]
    }
   ],
   "source": [
    "scaler = StandardScaler()\n",
    "scaler.fit(X_train)\n",
    "X_train_norm = scaler.transform(X_train)\n",
    "X_cv_norm = scaler.transform(X_cv)\n",
    "\n",
    "model = SVC()\n",
    "model.fit(X_train_norm, y_train)\n",
    "trainPredict = model.predict(X_train_norm)\n",
    "testPredict = model.predict(X_cv_norm)\n",
    "\n",
    "print(\"SVM(train) accuracy =\", accuracy_score(y_train, trainPredict))\n",
    "print(\"SVM(test) accuracy =\", accuracy_score(y_cv, testPredict))"
   ]
  },
  {
   "cell_type": "markdown",
   "metadata": {},
   "source": [
    "<h4> Средняя доля правильных ответов на тестовой выборке составляет примерно 66%</h4>"
   ]
  }
 ],
 "metadata": {
  "kernelspec": {
   "display_name": "Python 3",
   "language": "python",
   "name": "python3"
  },
  "language_info": {
   "codemirror_mode": {
    "name": "ipython",
    "version": 3
   },
   "file_extension": ".py",
   "mimetype": "text/x-python",
   "name": "python",
   "nbconvert_exporter": "python",
   "pygments_lexer": "ipython3",
   "version": "3.5.2"
  }
 },
 "nbformat": 4,
 "nbformat_minor": 2
}
