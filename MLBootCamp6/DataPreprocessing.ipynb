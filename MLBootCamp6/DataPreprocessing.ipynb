{
 "cells": [
  {
   "cell_type": "code",
   "execution_count": 1,
   "metadata": {},
   "outputs": [],
   "source": [
    "import pandas as pd\n",
    "from collections import Counter\n",
    "from functools import reduce"
   ]
  },
  {
   "cell_type": "code",
   "execution_count": null,
   "metadata": {},
   "outputs": [],
   "source": [
    "def process_chunk(chunk):\n",
    "    cols = chunk.columns\n",
    "    merge_dicts = lambda ds: reduce(lambda d1, d2: d1 + d2, [Counter(eval(d)) for d in ds])\n",
    "    chunk = chunk.groupby(cols[0], as_index=False).agg({\n",
    "        cols[1]: 'mean',\n",
    "        cols[2]: merge_dicts,\n",
    "        cols[3]: merge_dicts,\n",
    "        cols[4]: merge_dicts,\n",
    "        cols[5]: 'mean'\n",
    "    })\n",
    "    for i in range(len(chunk)):\n",
    "        chunk.at[i, cols[2]] += chunk.at[i, cols[3]] + chunk.at[i, cols[4]]\n",
    "    chunk.drop([cols[3], cols[4]], axis=1, inplace=True)\n",
    "    chunk.columns = ['id', 'cat_feature', 'metrics', 'dt_diff']\n",
    "    chunk.to_csv('data/data_p.csv', mode='a')"
   ]
  },
  {
   "cell_type": "code",
   "execution_count": null,
   "metadata": {},
   "outputs": [],
   "source": [
    "# download & process data\n",
    "chunk_size = 1000000\n",
    "i = 1\n",
    "for chunk in pd.read_csv('data/data.tsv', sep='\\t', chunksize=chunk_size):\n",
    "    process_chunk(chunk)\n",
    "    print(i / 20, '%')\n",
    "    i += 1"
   ]
  }
 ],
 "metadata": {
  "kernelspec": {
   "display_name": "Python 3",
   "language": "python",
   "name": "python3"
  },
  "language_info": {
   "codemirror_mode": {
    "name": "ipython",
    "version": 3
   },
   "file_extension": ".py",
   "mimetype": "text/x-python",
   "name": "python",
   "nbconvert_exporter": "python",
   "pygments_lexer": "ipython3",
   "version": "3.6.5"
  }
 },
 "nbformat": 4,
 "nbformat_minor": 2
}
