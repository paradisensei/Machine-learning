{
 "cells": [
  {
   "cell_type": "code",
   "execution_count": 1,
   "metadata": {},
   "outputs": [],
   "source": [
    "import pandas as pd\n",
    "import seaborn as sns\n",
    "\n",
    "from collections import Counter\n",
    "\n",
    "from sklearn.model_selection import train_test_split\n",
    "from sklearn.metrics import roc_auc_score\n",
    "from sklearn.linear_model import LogisticRegression"
   ]
  },
  {
   "cell_type": "code",
   "execution_count": 2,
   "metadata": {},
   "outputs": [],
   "source": [
    "data = pd.read_csv('data/data_p.csv')"
   ]
  },
  {
   "cell_type": "code",
   "execution_count": 3,
   "metadata": {},
   "outputs": [],
   "source": [
    "data.drop('Unnamed: 0', axis=1, inplace=True)"
   ]
  },
  {
   "cell_type": "code",
   "execution_count": 4,
   "metadata": {},
   "outputs": [],
   "source": [
    "data.drop_duplicates(subset=['id'], inplace=True)"
   ]
  },
  {
   "cell_type": "code",
   "execution_count": 15,
   "metadata": {},
   "outputs": [],
   "source": [
    "data = data.reset_index(drop=True)"
   ]
  },
  {
   "cell_type": "code",
   "execution_count": null,
   "metadata": {},
   "outputs": [],
   "source": [
    "# merge_dicts = lambda ds: reduce(lambda d1, d2: d1 + d2, [eval(d) for d in ds])\n",
    "# data = data.groupby('id', as_index=False).agg({\n",
    "#     'cat_feature': 'first',\n",
    "#     'metrics': merge_dicts,\n",
    "#     'dt_diff': 'first'\n",
    "# })"
   ]
  },
  {
   "cell_type": "code",
   "execution_count": 13,
   "metadata": {},
   "outputs": [],
   "source": [
    "data.drop(data.index[[31102]], inplace=True)"
   ]
  },
  {
   "cell_type": "code",
   "execution_count": 8,
   "metadata": {},
   "outputs": [
    {
     "name": "stdout",
     "output_type": "stream",
     "text": [
      "31102\n"
     ]
    }
   ],
   "source": [
    "# find frequency of keys in metrics\n",
    "freq_keys = {}\n",
    "for i in range(data.shape[0]):\n",
    "    try:\n",
    "        for k in eval(data.at[i, 'metrics']).keys():\n",
    "            if k not in freq_keys:\n",
    "                freq_keys[k] = 0\n",
    "            freq_keys[k] += 1\n",
    "    except NameError:\n",
    "        print(i)"
   ]
  },
  {
   "cell_type": "code",
   "execution_count": 16,
   "metadata": {},
   "outputs": [],
   "source": [
    "# get top 10 as new features\n",
    "new_features = sorted(freq_keys, key=freq_keys.get, reverse=True)[:100]"
   ]
  },
  {
   "cell_type": "code",
   "execution_count": 17,
   "metadata": {},
   "outputs": [],
   "source": [
    "for f in new_features:\n",
    "    data[f] = 0"
   ]
  },
  {
   "cell_type": "code",
   "execution_count": 18,
   "metadata": {},
   "outputs": [],
   "source": [
    "# add 10 new features to data\n",
    "for i in range(data.shape[0]):\n",
    "    metrics = eval(data.at[i, 'metrics'])\n",
    "    for k in new_features:\n",
    "        if k in metrics:\n",
    "            inc = metrics[k]\n",
    "        else:\n",
    "            inc = 0\n",
    "        data.at[i, k] += inc"
   ]
  },
  {
   "cell_type": "code",
   "execution_count": 21,
   "metadata": {},
   "outputs": [],
   "source": [
    "data.drop('metrics', axis=1, inplace=True)"
   ]
  },
  {
   "cell_type": "code",
   "execution_count": 22,
   "metadata": {},
   "outputs": [],
   "source": [
    "data['cat_feature'] = data['cat_feature'].astype(float)\n",
    "data['dt_diff'] = data['dt_diff'].astype(float)"
   ]
  },
  {
   "cell_type": "code",
   "execution_count": 40,
   "metadata": {},
   "outputs": [
    {
     "data": {
      "text/html": [
       "<div>\n",
       "<style scoped>\n",
       "    .dataframe tbody tr th:only-of-type {\n",
       "        vertical-align: middle;\n",
       "    }\n",
       "\n",
       "    .dataframe tbody tr th {\n",
       "        vertical-align: top;\n",
       "    }\n",
       "\n",
       "    .dataframe thead th {\n",
       "        text-align: right;\n",
       "    }\n",
       "</style>\n",
       "<table border=\"1\" class=\"dataframe\">\n",
       "  <thead>\n",
       "    <tr style=\"text-align: right;\">\n",
       "      <th></th>\n",
       "      <th>cat_feature</th>\n",
       "      <th>dt_diff</th>\n",
       "      <th>809001</th>\n",
       "      <th>2812609</th>\n",
       "      <th>219266</th>\n",
       "      <th>834560</th>\n",
       "      <th>2136794</th>\n",
       "      <th>1376123</th>\n",
       "      <th>1965842</th>\n",
       "      <th>1346833</th>\n",
       "      <th>...</th>\n",
       "      <th>374261</th>\n",
       "      <th>500613</th>\n",
       "      <th>73530</th>\n",
       "      <th>479646</th>\n",
       "      <th>510616</th>\n",
       "      <th>308474</th>\n",
       "      <th>1420376</th>\n",
       "      <th>277312</th>\n",
       "      <th>382226</th>\n",
       "      <th>552308</th>\n",
       "    </tr>\n",
       "  </thead>\n",
       "  <tbody>\n",
       "    <tr>\n",
       "      <th>count</th>\n",
       "      <td>609018.000000</td>\n",
       "      <td>609018.000000</td>\n",
       "      <td>609018.000000</td>\n",
       "      <td>609018.000000</td>\n",
       "      <td>609018.000000</td>\n",
       "      <td>609018.000000</td>\n",
       "      <td>609018.000000</td>\n",
       "      <td>609018.000000</td>\n",
       "      <td>609018.000000</td>\n",
       "      <td>609018.000000</td>\n",
       "      <td>...</td>\n",
       "      <td>609018.000000</td>\n",
       "      <td>609018.000000</td>\n",
       "      <td>609018.000000</td>\n",
       "      <td>609018.000000</td>\n",
       "      <td>609018.000000</td>\n",
       "      <td>609018.000000</td>\n",
       "      <td>609018.000000</td>\n",
       "      <td>609018.000000</td>\n",
       "      <td>609018.000000</td>\n",
       "      <td>609018.000000</td>\n",
       "    </tr>\n",
       "    <tr>\n",
       "      <th>mean</th>\n",
       "      <td>3.495684</td>\n",
       "      <td>30.126388</td>\n",
       "      <td>63.974569</td>\n",
       "      <td>8.687045</td>\n",
       "      <td>3.893926</td>\n",
       "      <td>25.421777</td>\n",
       "      <td>7.793743</td>\n",
       "      <td>10.314982</td>\n",
       "      <td>6.965702</td>\n",
       "      <td>3.371211</td>\n",
       "      <td>...</td>\n",
       "      <td>1.068752</td>\n",
       "      <td>1.510652</td>\n",
       "      <td>1.211777</td>\n",
       "      <td>1.603335</td>\n",
       "      <td>1.798298</td>\n",
       "      <td>0.728113</td>\n",
       "      <td>0.879659</td>\n",
       "      <td>0.678046</td>\n",
       "      <td>1.106136</td>\n",
       "      <td>2.008901</td>\n",
       "    </tr>\n",
       "    <tr>\n",
       "      <th>std</th>\n",
       "      <td>1.641125</td>\n",
       "      <td>8.617177</td>\n",
       "      <td>106.714119</td>\n",
       "      <td>20.040482</td>\n",
       "      <td>9.225874</td>\n",
       "      <td>68.527183</td>\n",
       "      <td>26.344550</td>\n",
       "      <td>36.549536</td>\n",
       "      <td>23.169663</td>\n",
       "      <td>9.318458</td>\n",
       "      <td>...</td>\n",
       "      <td>7.592742</td>\n",
       "      <td>9.408786</td>\n",
       "      <td>8.490243</td>\n",
       "      <td>11.523659</td>\n",
       "      <td>10.732252</td>\n",
       "      <td>2.932385</td>\n",
       "      <td>9.029383</td>\n",
       "      <td>3.433871</td>\n",
       "      <td>7.541020</td>\n",
       "      <td>11.984332</td>\n",
       "    </tr>\n",
       "    <tr>\n",
       "      <th>min</th>\n",
       "      <td>0.000000</td>\n",
       "      <td>1.000000</td>\n",
       "      <td>0.000000</td>\n",
       "      <td>0.000000</td>\n",
       "      <td>0.000000</td>\n",
       "      <td>0.000000</td>\n",
       "      <td>0.000000</td>\n",
       "      <td>0.000000</td>\n",
       "      <td>0.000000</td>\n",
       "      <td>0.000000</td>\n",
       "      <td>...</td>\n",
       "      <td>0.000000</td>\n",
       "      <td>0.000000</td>\n",
       "      <td>0.000000</td>\n",
       "      <td>0.000000</td>\n",
       "      <td>0.000000</td>\n",
       "      <td>0.000000</td>\n",
       "      <td>0.000000</td>\n",
       "      <td>0.000000</td>\n",
       "      <td>0.000000</td>\n",
       "      <td>0.000000</td>\n",
       "    </tr>\n",
       "    <tr>\n",
       "      <th>25%</th>\n",
       "      <td>2.000000</td>\n",
       "      <td>27.060000</td>\n",
       "      <td>3.000000</td>\n",
       "      <td>0.000000</td>\n",
       "      <td>0.000000</td>\n",
       "      <td>0.000000</td>\n",
       "      <td>0.000000</td>\n",
       "      <td>0.000000</td>\n",
       "      <td>0.000000</td>\n",
       "      <td>0.000000</td>\n",
       "      <td>...</td>\n",
       "      <td>0.000000</td>\n",
       "      <td>0.000000</td>\n",
       "      <td>0.000000</td>\n",
       "      <td>0.000000</td>\n",
       "      <td>0.000000</td>\n",
       "      <td>0.000000</td>\n",
       "      <td>0.000000</td>\n",
       "      <td>0.000000</td>\n",
       "      <td>0.000000</td>\n",
       "      <td>0.000000</td>\n",
       "    </tr>\n",
       "    <tr>\n",
       "      <th>50%</th>\n",
       "      <td>4.000000</td>\n",
       "      <td>30.385965</td>\n",
       "      <td>24.000000</td>\n",
       "      <td>2.000000</td>\n",
       "      <td>1.000000</td>\n",
       "      <td>1.000000</td>\n",
       "      <td>1.000000</td>\n",
       "      <td>0.000000</td>\n",
       "      <td>0.000000</td>\n",
       "      <td>0.000000</td>\n",
       "      <td>...</td>\n",
       "      <td>0.000000</td>\n",
       "      <td>0.000000</td>\n",
       "      <td>0.000000</td>\n",
       "      <td>0.000000</td>\n",
       "      <td>0.000000</td>\n",
       "      <td>0.000000</td>\n",
       "      <td>0.000000</td>\n",
       "      <td>0.000000</td>\n",
       "      <td>0.000000</td>\n",
       "      <td>0.000000</td>\n",
       "    </tr>\n",
       "    <tr>\n",
       "      <th>75%</th>\n",
       "      <td>5.000000</td>\n",
       "      <td>33.333333</td>\n",
       "      <td>79.000000</td>\n",
       "      <td>9.000000</td>\n",
       "      <td>4.000000</td>\n",
       "      <td>18.000000</td>\n",
       "      <td>5.000000</td>\n",
       "      <td>6.000000</td>\n",
       "      <td>4.000000</td>\n",
       "      <td>3.000000</td>\n",
       "      <td>...</td>\n",
       "      <td>0.000000</td>\n",
       "      <td>0.000000</td>\n",
       "      <td>0.000000</td>\n",
       "      <td>0.000000</td>\n",
       "      <td>0.000000</td>\n",
       "      <td>0.000000</td>\n",
       "      <td>0.000000</td>\n",
       "      <td>0.000000</td>\n",
       "      <td>0.000000</td>\n",
       "      <td>0.000000</td>\n",
       "    </tr>\n",
       "    <tr>\n",
       "      <th>max</th>\n",
       "      <td>5.000000</td>\n",
       "      <td>60.000000</td>\n",
       "      <td>3213.000000</td>\n",
       "      <td>1300.000000</td>\n",
       "      <td>1767.000000</td>\n",
       "      <td>2419.000000</td>\n",
       "      <td>2309.000000</td>\n",
       "      <td>2902.000000</td>\n",
       "      <td>1421.000000</td>\n",
       "      <td>1172.000000</td>\n",
       "      <td>...</td>\n",
       "      <td>1658.000000</td>\n",
       "      <td>1479.000000</td>\n",
       "      <td>1503.000000</td>\n",
       "      <td>2853.000000</td>\n",
       "      <td>1466.000000</td>\n",
       "      <td>436.000000</td>\n",
       "      <td>2197.000000</td>\n",
       "      <td>618.000000</td>\n",
       "      <td>855.000000</td>\n",
       "      <td>1706.000000</td>\n",
       "    </tr>\n",
       "  </tbody>\n",
       "</table>\n",
       "<p>8 rows × 102 columns</p>\n",
       "</div>"
      ],
      "text/plain": [
       "         cat_feature        dt_diff         809001        2812609  \\\n",
       "count  609018.000000  609018.000000  609018.000000  609018.000000   \n",
       "mean        3.495684      30.126388      63.974569       8.687045   \n",
       "std         1.641125       8.617177     106.714119      20.040482   \n",
       "min         0.000000       1.000000       0.000000       0.000000   \n",
       "25%         2.000000      27.060000       3.000000       0.000000   \n",
       "50%         4.000000      30.385965      24.000000       2.000000   \n",
       "75%         5.000000      33.333333      79.000000       9.000000   \n",
       "max         5.000000      60.000000    3213.000000    1300.000000   \n",
       "\n",
       "              219266         834560        2136794        1376123  \\\n",
       "count  609018.000000  609018.000000  609018.000000  609018.000000   \n",
       "mean        3.893926      25.421777       7.793743      10.314982   \n",
       "std         9.225874      68.527183      26.344550      36.549536   \n",
       "min         0.000000       0.000000       0.000000       0.000000   \n",
       "25%         0.000000       0.000000       0.000000       0.000000   \n",
       "50%         1.000000       1.000000       1.000000       0.000000   \n",
       "75%         4.000000      18.000000       5.000000       6.000000   \n",
       "max      1767.000000    2419.000000    2309.000000    2902.000000   \n",
       "\n",
       "             1965842        1346833      ...               374261  \\\n",
       "count  609018.000000  609018.000000      ...        609018.000000   \n",
       "mean        6.965702       3.371211      ...             1.068752   \n",
       "std        23.169663       9.318458      ...             7.592742   \n",
       "min         0.000000       0.000000      ...             0.000000   \n",
       "25%         0.000000       0.000000      ...             0.000000   \n",
       "50%         0.000000       0.000000      ...             0.000000   \n",
       "75%         4.000000       3.000000      ...             0.000000   \n",
       "max      1421.000000    1172.000000      ...          1658.000000   \n",
       "\n",
       "              500613          73530         479646         510616  \\\n",
       "count  609018.000000  609018.000000  609018.000000  609018.000000   \n",
       "mean        1.510652       1.211777       1.603335       1.798298   \n",
       "std         9.408786       8.490243      11.523659      10.732252   \n",
       "min         0.000000       0.000000       0.000000       0.000000   \n",
       "25%         0.000000       0.000000       0.000000       0.000000   \n",
       "50%         0.000000       0.000000       0.000000       0.000000   \n",
       "75%         0.000000       0.000000       0.000000       0.000000   \n",
       "max      1479.000000    1503.000000    2853.000000    1466.000000   \n",
       "\n",
       "              308474        1420376         277312         382226  \\\n",
       "count  609018.000000  609018.000000  609018.000000  609018.000000   \n",
       "mean        0.728113       0.879659       0.678046       1.106136   \n",
       "std         2.932385       9.029383       3.433871       7.541020   \n",
       "min         0.000000       0.000000       0.000000       0.000000   \n",
       "25%         0.000000       0.000000       0.000000       0.000000   \n",
       "50%         0.000000       0.000000       0.000000       0.000000   \n",
       "75%         0.000000       0.000000       0.000000       0.000000   \n",
       "max       436.000000    2197.000000     618.000000     855.000000   \n",
       "\n",
       "              552308  \n",
       "count  609018.000000  \n",
       "mean        2.008901  \n",
       "std        11.984332  \n",
       "min         0.000000  \n",
       "25%         0.000000  \n",
       "50%         0.000000  \n",
       "75%         0.000000  \n",
       "max      1706.000000  \n",
       "\n",
       "[8 rows x 102 columns]"
      ]
     },
     "execution_count": 40,
     "metadata": {},
     "output_type": "execute_result"
    }
   ],
   "source": [
    "data.describe()"
   ]
  },
  {
   "cell_type": "code",
   "execution_count": 24,
   "metadata": {},
   "outputs": [],
   "source": [
    "train_answers = pd.read_csv('data/train_answers.tsv', sep='\\t')\n",
    "train_answers.columns = ['id', 'target']"
   ]
  },
  {
   "cell_type": "code",
   "execution_count": 60,
   "metadata": {},
   "outputs": [],
   "source": [
    "# join data with target\n",
    "merged_data = pd.merge(data, train_answers, on=['id'])\n",
    "merged_data.drop('id', axis=1, inplace=True)"
   ]
  },
  {
   "cell_type": "code",
   "execution_count": 27,
   "metadata": {
    "scrolled": true
   },
   "outputs": [
    {
     "data": {
      "image/png": "[encoded data removed]",
      "text/plain": [
       "<Figure size 432x288 with 2 Axes>"
      ]
     },
     "metadata": {},
     "output_type": "display_data"
    }
   ],
   "source": [
    "sns.heatmap(merged_data.corr());"
   ]
  },
  {
   "cell_type": "code",
   "execution_count": null,
   "metadata": {},
   "outputs": [],
   "source": [
    "# normalization\n",
    "f = merged_data['cat_feature']\n",
    "merged_data['cat_feature'] = (f - f.mean()) / f.std()\n",
    "f = merged_data['dt_diff']\n",
    "merged_data['dt_diff'] = (f - f.mean()) / f.std()"
   ]
  },
  {
   "cell_type": "markdown",
   "metadata": {},
   "source": [
    "Build very simple baseline model for predicting target on test data"
   ]
  },
  {
   "cell_type": "code",
   "execution_count": 61,
   "metadata": {},
   "outputs": [],
   "source": [
    "# split merged_data to data & target\n",
    "target = merged_data['target'].values\n",
    "merged_data.drop('target', axis=1, inplace=True)"
   ]
  },
  {
   "cell_type": "code",
   "execution_count": 62,
   "metadata": {},
   "outputs": [],
   "source": [
    "from sklearn import preprocessing\n",
    "\n",
    "x = merged_data.values #returns a numpy array\n",
    "min_max_scaler = preprocessing.MinMaxScaler()\n",
    "x_scaled = min_max_scaler.fit_transform(x)\n",
    "merged_data = pd.DataFrame(x_scaled)"
   ]
  },
  {
   "cell_type": "code",
   "execution_count": 63,
   "metadata": {},
   "outputs": [],
   "source": [
    "X_train, X_cv, y_train, y_cv = train_test_split(merged_data.values, target, test_size=0.3, random_state=17)"
   ]
  },
  {
   "cell_type": "code",
   "execution_count": 64,
   "metadata": {},
   "outputs": [],
   "source": [
    "from sklearn.neural_network import MLPClassifier \n",
    "\n",
    "model = MLPClassifier(hidden_layer_sizes=(15, 15, 15))\n",
    "# fit model and get predictions\n",
    "model.fit(X_train, y_train)\n",
    "trainPredict = model.predict_proba(X_train)\n",
    "testPredict = model.predict_proba(X_cv)"
   ]
  },
  {
   "cell_type": "code",
   "execution_count": 51,
   "metadata": {},
   "outputs": [],
   "source": [
    "model = LogisticRegression()"
   ]
  },
  {
   "cell_type": "code",
   "execution_count": 52,
   "metadata": {},
   "outputs": [],
   "source": [
    "# fit model and get predictions\n",
    "model.fit(X_train, y_train)\n",
    "trainPredict = model.predict_proba(X_train)\n",
    "testPredict = model.predict_proba(X_cv)"
   ]
  },
  {
   "cell_type": "code",
   "execution_count": 65,
   "metadata": {},
   "outputs": [],
   "source": [
    "# leave only positive results\n",
    "trainPredict = trainPredict[:,1]\n",
    "testPredict = testPredict[:,1]"
   ]
  },
  {
   "cell_type": "code",
   "execution_count": 66,
   "metadata": {},
   "outputs": [
    {
     "name": "stdout",
     "output_type": "stream",
     "text": [
      "train ROC AUC score = 0.6255230289499503\n",
      "test ROC AUC score = 0.6106814766794015\n"
     ]
    }
   ],
   "source": [
    "print(\"train ROC AUC score =\", roc_auc_score(y_train, trainPredict))\n",
    "print(\"test ROC AUC score =\", roc_auc_score(y_cv, testPredict))"
   ]
  },
  {
   "cell_type": "code",
   "execution_count": 67,
   "metadata": {},
   "outputs": [],
   "source": [
    "# download & process test\n",
    "test = pd.read_csv('data/test.tsv', sep='\\t')\n",
    "test.columns = ['id']"
   ]
  },
  {
   "cell_type": "code",
   "execution_count": 68,
   "metadata": {},
   "outputs": [],
   "source": [
    "# join data with test\n",
    "merged_data = pd.merge(data, test, how='right', on=['id'])\n",
    "merged_data.drop('id', axis=1, inplace=True)"
   ]
  },
  {
   "cell_type": "code",
   "execution_count": 69,
   "metadata": {},
   "outputs": [],
   "source": [
    "x = merged_data.values #returns a numpy array\n",
    "min_max_scaler = preprocessing.MinMaxScaler()\n",
    "x_scaled = min_max_scaler.fit_transform(x)\n",
    "merged_data = pd.DataFrame(x_scaled)"
   ]
  },
  {
   "cell_type": "code",
   "execution_count": 70,
   "metadata": {},
   "outputs": [],
   "source": [
    "# make prediction on test data\n",
    "prediction = model.predict_proba(merged_data)[:,1]"
   ]
  },
  {
   "cell_type": "code",
   "execution_count": 71,
   "metadata": {},
   "outputs": [],
   "source": [
    "# write prediction to output file\n",
    "prd = pd.DataFrame(data=prediction)\n",
    "prd.to_csv('prd.csv', index=None, header=None)"
   ]
  }
 ],
 "metadata": {
  "kernelspec": {
   "display_name": "Python 3",
   "language": "python",
   "name": "python3"
  },
  "language_info": {
   "codemirror_mode": {
    "name": "ipython",
    "version": 3
   },
   "file_extension": ".py",
   "mimetype": "text/x-python",
   "name": "python",
   "nbconvert_exporter": "python",
   "pygments_lexer": "ipython3",
   "version": "3.6.5"
  }
 },
 "nbformat": 4,
 "nbformat_minor": 2
}
